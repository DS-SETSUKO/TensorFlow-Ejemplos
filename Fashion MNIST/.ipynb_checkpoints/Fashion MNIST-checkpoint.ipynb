{
 "cells": [
  {
   "cell_type": "code",
   "execution_count": 1,
   "metadata": {
    "collapsed": true
   },
   "outputs": [],
   "source": [
    "import tensorflow as tf\n",
    "import matplotlib.pyplot as plt\n",
    "import seaborn as sns\n",
    "import numpy as np\n",
    "\n",
    "from tensorflow.examples.tutorials.mnist import input_data\n",
    "\n",
    "%matplotlib inline\n",
    "\n",
    "sns.set_style('whitegrid')"
   ]
  },
  {
   "cell_type": "code",
   "execution_count": 2,
   "metadata": {},
   "outputs": [
    {
     "name": "stdout",
     "output_type": "stream",
     "text": [
      "WARNING:tensorflow:From <ipython-input-2-b1c98c72331f>:2: read_data_sets (from tensorflow.contrib.learn.python.learn.datasets.mnist) is deprecated and will be removed in a future version.\n",
      "Instructions for updating:\n",
      "Please use alternatives such as official/mnist/dataset.py from tensorflow/models.\n",
      "WARNING:tensorflow:From C:\\Users\\zEros\\Anaconda3\\lib\\site-packages\\tensorflow\\contrib\\learn\\python\\learn\\datasets\\mnist.py:260: maybe_download (from tensorflow.contrib.learn.python.learn.datasets.base) is deprecated and will be removed in a future version.\n",
      "Instructions for updating:\n",
      "Please write your own downloading logic.\n",
      "WARNING:tensorflow:From C:\\Users\\zEros\\Anaconda3\\lib\\site-packages\\tensorflow\\contrib\\learn\\python\\learn\\datasets\\mnist.py:262: extract_images (from tensorflow.contrib.learn.python.learn.datasets.mnist) is deprecated and will be removed in a future version.\n",
      "Instructions for updating:\n",
      "Please use tf.data to implement this functionality.\n",
      "Extracting data/fashion\\train-images-idx3-ubyte.gz\n",
      "WARNING:tensorflow:From C:\\Users\\zEros\\Anaconda3\\lib\\site-packages\\tensorflow\\contrib\\learn\\python\\learn\\datasets\\mnist.py:267: extract_labels (from tensorflow.contrib.learn.python.learn.datasets.mnist) is deprecated and will be removed in a future version.\n",
      "Instructions for updating:\n",
      "Please use tf.data to implement this functionality.\n",
      "Extracting data/fashion\\train-labels-idx1-ubyte.gz\n",
      "WARNING:tensorflow:From C:\\Users\\zEros\\Anaconda3\\lib\\site-packages\\tensorflow\\contrib\\learn\\python\\learn\\datasets\\mnist.py:110: dense_to_one_hot (from tensorflow.contrib.learn.python.learn.datasets.mnist) is deprecated and will be removed in a future version.\n",
      "Instructions for updating:\n",
      "Please use tf.one_hot on tensors.\n",
      "Extracting data/fashion\\t10k-images-idx3-ubyte.gz\n",
      "Extracting data/fashion\\t10k-labels-idx1-ubyte.gz\n",
      "WARNING:tensorflow:From C:\\Users\\zEros\\Anaconda3\\lib\\site-packages\\tensorflow\\contrib\\learn\\python\\learn\\datasets\\mnist.py:290: DataSet.__init__ (from tensorflow.contrib.learn.python.learn.datasets.mnist) is deprecated and will be removed in a future version.\n",
      "Instructions for updating:\n",
      "Please use alternatives such as official/mnist/dataset.py from tensorflow/models.\n"
     ]
    }
   ],
   "source": [
    "#Importamos los datos\n",
    "fashion_mnist = input_data.read_data_sets(\"data/fashion\", source_url='http://fashion-mnist.s3-website.eu-central-1.amazonaws.com/', one_hot=True)"
   ]
  },
  {
   "cell_type": "markdown",
   "metadata": {},
   "source": [
    "# Exploramos los datos"
   ]
  },
  {
   "cell_type": "code",
   "execution_count": 3,
   "metadata": {},
   "outputs": [
    {
     "data": {
      "text/plain": [
       "(55000, 784)"
      ]
     },
     "execution_count": 3,
     "metadata": {},
     "output_type": "execute_result"
    }
   ],
   "source": [
    "fashion_mnist.train.images.shape"
   ]
  },
  {
   "cell_type": "code",
   "execution_count": 4,
   "metadata": {},
   "outputs": [
    {
     "name": "stdout",
     "output_type": "stream",
     "text": [
      "Training set images shape : (55000, 784)\n",
      "Training set labels shape : (55000, 10)\n",
      "Test set images shape : (10000, 784)\n",
      "Test set labels shape : (10000, 10)\n"
     ]
    }
   ],
   "source": [
    "print(f\"Training set images shape : {fashion_mnist.train.images.shape}\")\n",
    "print(f\"Training set labels shape : {fashion_mnist.train.labels.shape}\")\n",
    "\n",
    "print(f\"Test set images shape : {fashion_mnist.test.images.shape}\")\n",
    "print(f\"Test set labels shape : {fashion_mnist.test.labels.shape}\")"
   ]
  },
  {
   "cell_type": "code",
   "execution_count": 5,
   "metadata": {
    "collapsed": true
   },
   "outputs": [],
   "source": [
    "class_names = ['T-shirt/top', 'Trouser', 'Pullover', 'Dress', 'Coat', \n",
    "               'Sandal', 'Shirt', 'Sneaker', 'Bag', 'Ankle boot']"
   ]
  },
  {
   "cell_type": "code",
   "execution_count": 6,
   "metadata": {},
   "outputs": [
    {
     "name": "stdout",
     "output_type": "stream",
     "text": [
      "Label: Coat\n"
     ]
    },
    {
     "data": {
      "image/png": "[encoded data removed]",
      "text/plain": [
       "<Figure size 432x288 with 1 Axes>"
      ]
     },
     "metadata": {},
     "output_type": "display_data"
    }
   ],
   "source": [
    "print(f\"Label: {class_names[np.where(fashion_mnist.train.labels[0] == 1)[0][0]]}\")\n",
    "plt.imshow(fashion_mnist.train.images[0].reshape(28,28), cmap=\"gist_gray\")\n",
    "plt.grid(False)"
   ]
  },
  {
   "cell_type": "markdown",
   "metadata": {},
   "source": [
    "# Placeholders"
   ]
  },
  {
   "cell_type": "code",
   "execution_count": 26,
   "metadata": {
    "collapsed": true
   },
   "outputs": [],
   "source": [
    "def crear_placeholders(nuestra_x, nuestra_y):\n",
    "    x = tf.placeholder(tf.float32, shape=[None, nuestra_x])\n",
    "    y = tf.placeholder(tf.float32, shape=[None, nuestra_y])\n",
    "    \n",
    "    return x, y"
   ]
  },
  {
   "cell_type": "markdown",
   "metadata": {},
   "source": [
    "# Variables (Inicializamos los parametros)"
   ]
  },
  {
   "cell_type": "code",
   "execution_count": 21,
   "metadata": {
    "collapsed": true
   },
   "outputs": [],
   "source": [
    "def inicializar_parametros():\n",
    "    \n",
    "    # Primera capa\n",
    "    w1 = tf.get_variable(\"w1\", [784, 128], initializer=tf.contrib.layers.xavier_initializer())\n",
    "    b1 = tf.get_variable(\"b1\", [1, 128], initializer=tf.zeros_initializer())\n",
    "    \n",
    "    # Segunda capa\n",
    "    w2 = tf.get_variable(\"w2\", [128, 128], initializer=tf.contrib.layers.xavier_initializer())\n",
    "    b2 = tf.get_variable(\"b2\", [1, 128], initializer=tf.zeros_initializer())\n",
    "    \n",
    "    # Capa de salida\n",
    "    w3 = tf.get_variable(\"w3\", [128, 10], initializer=tf.contrib.layers.xavier_initializer())\n",
    "    b3 = tf.get_variable(\"b3\", [1, 10], initializer=tf.zeros_initializer())\n",
    "    \n",
    "    parametros = {\n",
    "        \"w1\": w1,\n",
    "        \"b1\": b1,\n",
    "        \"w2\": w2,\n",
    "        \"b2\": b2,\n",
    "        \"w3\": w3,\n",
    "        \"b3\": b3\n",
    "    }\n",
    "    \n",
    "    return parametros"
   ]
  },
  {
   "cell_type": "markdown",
   "metadata": {},
   "source": [
    "# Operaciones (Forward propagation)"
   ]
  },
  {
   "cell_type": "code",
   "execution_count": 22,
   "metadata": {
    "collapsed": true
   },
   "outputs": [],
   "source": [
    "def forward_propagation(x, parametros):\n",
    "    \n",
    "    w1 = parametros['w1']\n",
    "    b1 = parametros['b1']\n",
    "    w2 = parametros['w2']\n",
    "    b2 = parametros['b2']\n",
    "    w3 = parametros['w3']\n",
    "    b3 = parametros['b3']\n",
    "    \n",
    "    z1 = tf.add(tf.matmul(x, w1), b1)\n",
    "    a1 = tf.nn.relu(z1)                  \n",
    "    z2 = tf.add(tf.matmul(a1, w2), b2)    \n",
    "    a2 = tf.nn.relu(z2)                  \n",
    "    z3 = tf.add(tf.matmul(a2, w3), b3)\n",
    "    \n",
    "    return z3"
   ]
  },
  {
   "cell_type": "code",
   "execution_count": 23,
   "metadata": {
    "collapsed": true
   },
   "outputs": [],
   "source": [
    "def save_model(session, file_name): \n",
    "    saver = tf.train.Saver()\n",
    "    saver.save(session, f\"/tmp/{file_name}\")\n",
    "    print(\"Modelo guardado\")"
   ]
  },
  {
   "cell_type": "markdown",
   "metadata": {},
   "source": [
    "# Loss function"
   ]
  },
  {
   "cell_type": "code",
   "execution_count": 24,
   "metadata": {
    "collapsed": true
   },
   "outputs": [],
   "source": [
    "def compute_loss(z, y_true):\n",
    "    \n",
    "    loss = tf.reduce_mean(tf.nn.softmax_cross_entropy_with_logits_v2(logits=z, labels=y_true))\n",
    "    \n",
    "    return loss"
   ]
  },
  {
   "cell_type": "markdown",
   "metadata": {},
   "source": [
    "# Optimizer (Backpropagation)"
   ]
  },
  {
   "cell_type": "code",
   "execution_count": 25,
   "metadata": {
    "collapsed": true
   },
   "outputs": [],
   "source": [
    "def optimize(loss, learning_rate=0.001):\n",
    "    \n",
    "    optimizer = tf.train.AdamOptimizer(learning_rate).minimize(loss)\n",
    "    \n",
    "    return optimizer"
   ]
  },
  {
   "cell_type": "markdown",
   "metadata": {},
   "source": [
    "# Modelo (train_eval)"
   ]
  },
  {
   "cell_type": "code",
   "execution_count": 13,
   "metadata": {
    "collapsed": true
   },
   "outputs": [],
   "source": [
    "def modelo(train, test, learning_rate=0.001, num_epochs=16, minibatch_size=32, print_loss=True, graph_filename=\"loss\", save_session=True):\n",
    "    \n",
    "    tf.reset_default_graph()\n",
    "    \n",
    "    (cantidad_de_x, nuestra_x) = fashion_mnist.train.images.shape\n",
    "    nuestra_y = fashion_mnist.train.labels.shape[1]    \n",
    "    \n",
    "    x, y = crear_placeholders(nuestra_x, nuestra_y)\n",
    "    \n",
    "    parametros = inicializar_parametros()\n",
    "    \n",
    "    z3 = forward_propagation(x, parametros)\n",
    "    \n",
    "    loss = compute_loss(z3, y)\n",
    "    \n",
    "    train = optimize(loss)\n",
    "    \n",
    "    init = tf.global_variables_initializer()\n",
    "    \n",
    "    with tf.Session() as sess:\n",
    "        \n",
    "        sess.run(init)\n",
    "        \n",
    "        for epoch in range(num_epochs):\n",
    "             \n",
    "                epoch_loss = 0.\n",
    "                numero_minibatches = int(cantidad_de_x / minibatch_size)\n",
    "                \n",
    "                for i in range(numero_minibatches):\n",
    "                    \n",
    "                    minibatch_x, minibatch_y = train.next_batch(minibatch_size)\n",
    "                    \n",
    "                    _, minibatch_loss = sess.run([optimizer, loss], feed_dict={x:minibatch_x.T, y:minibatch_y.T})\n",
    "                    \n",
    "                    epoch_loss += minibatch_loss / numero_minibatches\n",
    "                \n",
    "                if print_loss == True:\n",
    "                    print(f\"Perdida en epoch {epoch}: {epoch_loss}\")\n",
    "                    losses.append(epoch_loss)\n",
    "        \n",
    "        plt.figure(figsize=(16,5))\n",
    "        plt.plot(np.squeeze(losses), color='#2A688B')\n",
    "        plt.xlim(0, num_epochs-1)\n",
    "        plt.ylabel(\"Perdida\")\n",
    "        plt.xlabel(\"Iteraciones\")\n",
    "        plt.title(f\"Learning rate: {learning_rate}\")\n",
    "        plt.savefig(graph_filename, dpi=300)\n",
    "        \n",
    "        parametros = sess.run(parametros)\n",
    "        print(\"Parametros entrenados!\")\n",
    "        \n",
    "        correct_prediction = tf.equal(tf.argmax(z3), tf.argmax(y))\n",
    "        \n",
    "        accuracy = tf.reduce_mean(tf.cast(correct_prediction, \"float32\"))\n",
    "        \n",
    "        print(\"Train Accuracy: \", accuracy.eval({x: train.images.T, y: train.labels.T}))\n",
    "        print(\"Test Accuracy: \", accuracy.eval({x: test.images.T, y: test.labels.T}))\n",
    "        \n",
    "        if save_session == True:\n",
    "            save_model(sess, \"fashion_mnist\")\n",
    "        \n",
    "        return parametros"
   ]
  },
  {
   "cell_type": "markdown",
   "metadata": {},
   "source": [
    "# Test del modelo"
   ]
  },
  {
   "cell_type": "code",
   "execution_count": 14,
   "metadata": {
    "collapsed": true
   },
   "outputs": [],
   "source": [
    "train = fashion_mnist.train\n",
    "test = fashion_mnist.test"
   ]
  },
  {
   "cell_type": "code",
   "execution_count": 15,
   "metadata": {},
   "outputs": [
    {
     "name": "stdout",
     "output_type": "stream",
     "text": [
      "Perdida en epoch 0: 0.4890935104708937\n",
      "Perdida en epoch 1: 0.36903103729178727\n",
      "Perdida en epoch 2: 0.3305117140987035\n",
      "Perdida en epoch 3: 0.30799674195680815\n",
      "Perdida en epoch 4: 0.2918538665865161\n",
      "Perdida en epoch 5: 0.2769896636984815\n",
      "Perdida en epoch 6: 0.26232892440412997\n",
      "Perdida en epoch 7: 0.25216020270097855\n",
      "Perdida en epoch 8: 0.23926650340819564\n",
      "Perdida en epoch 9: 0.22956794543068199\n",
      "Perdida en epoch 10: 0.22428813312805543\n",
      "Perdida en epoch 11: 0.21401614647757647\n",
      "Perdida en epoch 12: 0.2074219903998659\n",
      "Perdida en epoch 13: 0.20170190826825976\n",
      "Perdida en epoch 14: 0.19243280028401774\n",
      "Perdida en epoch 15: 0.1875286696942755\n",
      "Parametros entrenados!\n",
      "Train Accuracy:  0.9354\n",
      "Test Accuracy:  0.8857\n",
      "Modelo guardado\n"
     ]
    },
    {
     "data": {
      "image/png": "[encoded data removed]",
      "text/plain": [
       "<Figure size 1152x360 with 1 Axes>"
      ]
     },
     "metadata": {},
     "output_type": "display_data"
    }
   ],
   "source": [
    "parameters = modelo(train, test, learning_rate=0.001)"
   ]
  },
  {
   "cell_type": "code",
   "execution_count": 19,
   "metadata": {},
   "outputs": [
    {
     "data": {
      "text/plain": [
       "array([[ 0.03498826, -0.04253975,  0.08609905, ..., -0.03104147,\n",
       "        -0.01265783,  0.03731528],\n",
       "       [ 0.07305951,  0.03776672, -0.13775119, ...,  0.30746046,\n",
       "        -0.23955907, -0.01996726],\n",
       "       [-0.00835869,  0.0065353 , -0.04550882, ..., -0.05698863,\n",
       "         0.05995141, -0.01613786],\n",
       "       ...,\n",
       "       [-0.38351738, -0.32860965,  0.5662156 , ..., -0.30337417,\n",
       "        -0.22858654,  0.15369083],\n",
       "       [-0.17403819, -0.34148484, -0.16219419, ...,  0.074604  ,\n",
       "        -0.12288097, -0.14357108],\n",
       "       [-0.16602847, -0.18645789, -0.06646974, ..., -0.00862509,\n",
       "         0.4092961 ,  0.14928144]], dtype=float32)"
      ]
     },
     "execution_count": 19,
     "metadata": {},
     "output_type": "execute_result"
    }
   ],
   "source": []
  },
  {
   "cell_type": "code",
   "execution_count": null,
   "metadata": {
    "collapsed": true
   },
   "outputs": [],
   "source": []
  },
  {
   "cell_type": "code",
   "execution_count": null,
   "metadata": {
    "collapsed": true
   },
   "outputs": [],
   "source": []
  },
  {
   "cell_type": "code",
   "execution_count": null,
   "metadata": {
    "collapsed": true
   },
   "outputs": [],
   "source": []
  }
 ],
 "metadata": {
  "kernelspec": {
   "display_name": "Python 3",
   "language": "python",
   "name": "python3"
  },
  "language_info": {
   "codemirror_mode": {
    "name": "ipython",
    "version": 3
   },
   "file_extension": ".py",
   "mimetype": "text/x-python",
   "name": "python",
   "nbconvert_exporter": "python",
   "pygments_lexer": "ipython3",
   "version": "3.6.6"
  }
 },
 "nbformat": 4,
 "nbformat_minor": 2
}
